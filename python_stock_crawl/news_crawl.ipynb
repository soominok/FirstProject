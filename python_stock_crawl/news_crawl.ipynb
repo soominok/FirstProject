{
 "cells": [
  {
   "cell_type": "markdown",
   "metadata": {},
   "source": [
    "## 증권 뉴스 크롤링"
   ]
  },
  {
   "cell_type": "code",
   "execution_count": 1,
   "metadata": {},
   "outputs": [],
   "source": [
    "import requests\n",
    "import pandas as pd\n",
    "import pandas as DataFrame\n",
    "from bs4 import BeautifulSoup\n",
    "import time\n",
    "\n",
    "def get_news(date, pages):\n",
    "    headers = {\n",
    "    'User-Agent': 'Mozilla/5.0 (Windows NT 6.3; Win64; x64) AppleWebKit/537.36 (KHTML, like Gecko) Chrome/37.0.2049.0 Safari/537.36'\n",
    "    }\n",
    "    url = \"https://finance.naver.com/news/news_list.nhn?mode=RANK&date=\" + str(date) + \"&page=\" + str(pages)\n",
    "    resp = requests.get(url, headers=headers)\n",
    "    soup = BeautifulSoup(resp.text, \"html.parser\")\n",
    "    lists = []\n",
    "    #hot_news= soup.find_all(class_ = 'hotNewsList')\n",
    "    hot_news = soup.select('.hotNewsList .newsList li li')\n",
    "    time.sleep(3)\n",
    "    newsNum = 0\n",
    "    for item in hot_news:\n",
    "        d = {}\n",
    "        #d['LinkSrc'] = item.find('a')['href']\n",
    "        newsNum += 1\n",
    "        d['NewsNo'] = newsNum\n",
    "        d['Title'] = item.find('a')['title']\n",
    "        d['Press'] = item.find(class_=\"press\").get_text()\n",
    "        lists.append(d)\n",
    "    return lists\n",
    "#a = get_news(20200921,1)\n",
    "#print(type(a))\n",
    "#print(a)"
   ]
  },
  {
   "cell_type": "code",
   "execution_count": 2,
   "metadata": {},
   "outputs": [
    {
     "data": {
      "text/plain": [
       "[{'NewsNo': 1, 'Title': '수젠텍, 손미진 대표 외 임원진 자사주 32만주 취득', 'Press': '매일경제 '},\n",
       " {'NewsNo': 2, 'Title': '요즘 증시…이 종목 떨어지면 어김없이 코스피도 빠졌다', 'Press': '매일경제 '},\n",
       " {'NewsNo': 3, 'Title': '[fn오전시황] 코스피, 기관 매수에 상승 반전', 'Press': '파이낸셜뉴스 '},\n",
       " {'NewsNo': 4, 'Title': '\"연말 배당 노려볼까\" 기술주 조정 국면서 재부상하는 배당주', 'Press': '데일리안 '},\n",
       " {'NewsNo': 5, 'Title': '현대차증권, ‘이스트스프링 美회사채 펀드’ 추천', 'Press': '데일리안 '},\n",
       " {'NewsNo': 6, 'Title': '[유럽증시] 코로나19 재확산·제한조치 도입에 일제히 하락', 'Press': '연합뉴스 '},\n",
       " {'NewsNo': 7,\n",
       "  'Title': '뉴욕증시, 엇갈린 美 지표 속 변동성 장세…다우, 0.2% 상승 마감',\n",
       "  'Press': '연합뉴스 '},\n",
       " {'NewsNo': 8, 'Title': '현대차 노조, 임금 동결 잠정합의안 찬반투표 시작', 'Press': '연합뉴스 '},\n",
       " {'NewsNo': 9, 'Title': '코스피 반등 출발…장중 2,290대로 상승', 'Press': '연합뉴스 '},\n",
       " {'NewsNo': 10, 'Title': '코스피 반등 출발', 'Press': '연합뉴스 '},\n",
       " {'NewsNo': 11, 'Title': '코스피, 2,290대로 상승', 'Press': '연합뉴스 '},\n",
       " {'NewsNo': 12,\n",
       "  'Title': '코스피 기관 매수에 반등 출발…장중 2,290대 상승(종합)',\n",
       "  'Press': '연합뉴스 '},\n",
       " {'NewsNo': 13, 'Title': '올해 임협 잠정합의안 찬반투표하는 현대차 조합원', 'Press': '연합뉴스 '},\n",
       " {'NewsNo': 14, 'Title': '금융결제원 인증서 4만여건 해킹당해…\"금전사고는 없어\"', 'Press': '연합뉴스 '},\n",
       " {'NewsNo': 15, 'Title': \"'공시가 9억원까지 주택연금 가능' 개정안 정무위 통과\", 'Press': '연합뉴스 '},\n",
       " {'NewsNo': 16, 'Title': '[게시판] 대신증권, 추석 연휴 해외주식 야간데스크 운영', 'Press': '연합뉴스 '},\n",
       " {'NewsNo': 17, 'Title': '日기업 행세로 성공 中미니소…3조원 매출 찍고 뉴욕 상장', 'Press': '연합뉴스 '},\n",
       " {'NewsNo': 18,\n",
       "  'Title': '[외환] 원/달러 환율 0.4원 내린 1,172.3원(마감)',\n",
       "  'Press': '연합뉴스 '},\n",
       " {'NewsNo': 19,\n",
       "  'Title': '[코스닥] 1.33p(0.16%) 오른 808.28(장종료)',\n",
       "  'Press': '연합뉴스 '},\n",
       " {'NewsNo': 20,\n",
       "  'Title': '코스피 기관·개인 매수에 소폭 반등…2,270대 강세(종합)',\n",
       "  'Press': '연합뉴스 '},\n",
       " {'NewsNo': 21, 'Title': '소룩스, 증권신고서 제출…11월 코스닥 상장 추진', 'Press': '연합뉴스 '},\n",
       " {'NewsNo': 22,\n",
       "  'Title': '\"오빠들 주총서 볼래요\"…BTS 아미 빅히트 공모주 청약에 동참',\n",
       "  'Press': '연합뉴스 '},\n",
       " {'NewsNo': 23, 'Title': '씨티그룹 \"미국 인종 불평등으로 20년간 16조달러 손실\"', 'Press': '연합뉴스 '},\n",
       " {'NewsNo': 24,\n",
       "  'Title': '[증시신상품] 주식형 액티브 ETF 2개 종목, 29일 신규 상장',\n",
       "  'Press': '연합뉴스 '},\n",
       " {'NewsNo': 25, 'Title': '빅히트 IPO 수요예측 마감…카카오게임즈 기록 깰까', 'Press': '연합뉴스 '}]"
      ]
     },
     "execution_count": 2,
     "metadata": {},
     "output_type": "execute_result"
    }
   ],
   "source": [
    "get_news(20200925,1)"
   ]
  },
  {
   "cell_type": "code",
   "execution_count": 3,
   "metadata": {},
   "outputs": [
    {
     "name": "stdout",
     "output_type": "stream",
     "text": [
      "Collecting flask_cors\n",
      "  Downloading Flask_Cors-3.0.9-py2.py3-none-any.whl (14 kB)\n",
      "Requirement already satisfied: Flask>=0.9 in /home/bitai/anaconda3/lib/python3.7/site-packages (from flask_cors) (1.1.1)\n",
      "Requirement already satisfied: Six in /home/bitai/anaconda3/lib/python3.7/site-packages (from flask_cors) (1.14.0)\n",
      "Requirement already satisfied: Jinja2>=2.10.1 in /home/bitai/anaconda3/lib/python3.7/site-packages (from Flask>=0.9->flask_cors) (2.11.1)\n",
      "Requirement already satisfied: Werkzeug>=0.15 in /home/bitai/anaconda3/lib/python3.7/site-packages (from Flask>=0.9->flask_cors) (1.0.0)\n",
      "Requirement already satisfied: click>=5.1 in /home/bitai/anaconda3/lib/python3.7/site-packages (from Flask>=0.9->flask_cors) (7.0)\n",
      "Requirement already satisfied: itsdangerous>=0.24 in /home/bitai/anaconda3/lib/python3.7/site-packages (from Flask>=0.9->flask_cors) (1.1.0)\n",
      "Requirement already satisfied: MarkupSafe>=0.23 in /home/bitai/anaconda3/lib/python3.7/site-packages (from Jinja2>=2.10.1->Flask>=0.9->flask_cors) (1.1.1)\n",
      "Installing collected packages: flask-cors\n",
      "Successfully installed flask-cors-3.0.9\n",
      "Note: you may need to restart the kernel to use updated packages.\n"
     ]
    }
   ],
   "source": [
    "#pip install flask_cors"
   ]
  },
  {
   "cell_type": "code",
   "execution_count": null,
   "metadata": {},
   "outputs": [
    {
     "name": "stdout",
     "output_type": "stream",
     "text": [
      " * Serving Flask app \"__main__\" (lazy loading)\n",
      " * Environment: production\n",
      "   WARNING: This is a development server. Do not use it in a production deployment.\n",
      "   Use a production WSGI server instead.\n",
      " * Debug mode: off\n"
     ]
    },
    {
     "name": "stderr",
     "output_type": "stream",
     "text": [
      " * Running on http://127.0.0.1:5000/ (Press CTRL+C to quit)\n"
     ]
    },
    {
     "name": "stdout",
     "output_type": "stream",
     "text": [
      "It's operate!!\n",
      "formatDate : 20201015\n"
     ]
    },
    {
     "name": "stderr",
     "output_type": "stream",
     "text": [
      "127.0.0.1 - - [15/Oct/2020 11:32:56] \"\u001b[37mGET /newsList?formatDate=20201015 HTTP/1.1\u001b[0m\" 200 -\n"
     ]
    }
   ],
   "source": [
    "from flask import Flask, jsonify, request\n",
    "import json\n",
    "from flask_cors import CORS, cross_origin\n",
    "from flask_restful import Resource, Api, reqparse\n",
    "app = Flask(__name__)\n",
    "api = Api(app)\n",
    "CORS(app, resources={r'*': {'origins': 'http://localhost:8080'}})\n",
    "@app.route('/newsList',methods=['GET'])\n",
    "def new_data():\n",
    "    print(\"It's operate!!\")\n",
    "    formatDate = request.args.get('formatDate')\n",
    "    print(\"formatDate : \" + formatDate)\n",
    "    data_list = get_news(formatDate,1)\n",
    "    return jsonify(data_list)\n",
    "if __name__ == '__main__':\n",
    "    app.run()"
   ]
  },
  {
   "cell_type": "markdown",
   "metadata": {},
   "source": [
    "## 시가총액 크롤링"
   ]
  },
  {
   "cell_type": "code",
   "execution_count": 28,
   "metadata": {},
   "outputs": [],
   "source": [
    "MARKET_URL='https://finance.naver.com/sise/sise_market_sum.nhn?sosok='\n",
    "KOSPI_CODE = 0\n",
    "KOSDAK_CODE = 1\n",
    "fields = []\n",
    "START_PAGE = 1\n",
    "def mainPage(code):\n",
    "    res = requests.get(MARKET_URL + str(code) + \"&page=\" + str(START_PAGE))\n",
    "    page_soup = BeautifulSoup(res.text, 'lxml')\n",
    "    top10_page_num = page_soup.select_one('td.pgRR > a')\n",
    "    top10_page_num = int(top10_page_num.get('href').split('=')[-1])\n",
    "    # 항목명들 추출\n",
    "    ipt_html = page_soup.select_one('div.subcnt_sise_item_top')\n",
    "    global fields\n",
    "    fields = [item.get('value') for item in ipt_html.select('input')]\n",
    "    result = [crawl(code, str(page)) for page in range(1, top10_page_num+1)]\n",
    "    df = pd.concat(result, axis=0, ignore_index=True)\n",
    "    \n",
    "def crawl(code, page):\n",
    "    global fields\n",
    "    data = {'menu': 'market_sum', 'fieldIds': fields,\n",
    "            'returnUrl': MARKET_URL + str(code) + \"&page=\" + str(page)}\n",
    "    #Post 요청 (requests.get 요청 대신)\n",
    "    res = requests.post('https://finance.naver.com/sise/field_submit.nhn', data=data)\n",
    "    page_soup = BeautifulSoup(res.text, 'lxml')\n",
    "    table_html = page_soup.select_one('div.box_type_l')\n",
    "    # Column 이름\n",
    "    col_name_data = [item.get_text().strip() for item in table_html.select('thead th')][1:-1]\n",
    "    # 종목명 + 수치 추출 (a.title = 종목명, td.numb = 기타 수치)\n",
    "    inner_data = [item.get_text().strip() for item in table_html.find_all(lambda x:\n",
    "                                                                         (x.name == 'a' and\n",
    "                                                                         'tltle' in x.get('class', [])) or\n",
    "                                                                         (x.name == 'td' and\n",
    "                                                                         'number' in x.get('class', [])))]\n",
    "    # 종목의 순번\n",
    "    no_data = [item.get_text().strip() for item in table_html.select('td.no')]\n",
    "    number_data = np.array(inner_data)\n",
    "    \n",
    "    for item in range(10):\n",
    "        dict = {}\n",
    "        dict['no'] = no_data\n",
    "        dict['company'] = number_data[0]\n",
    "        dict['current'] = number_data[1]\n",
    "        dict['pre'] = number_data[2]\n",
    "        dict['updown'] = number_data[3]\n",
    "        dict['face'] = number_data[4]\n",
    "        dict['volume'] = number_data[5]\n",
    "        dict['preVolume'] = number_data[7]\n",
    "        dict['price'] = number_data[8]\n",
    "        dict\n",
    "    \n",
    "    print(number_data)\n",
    "    # 행렬화 (크기에 맞게)\n",
    "    #number_data.resize(len(no_data), len(col_name_data))\n",
    "    #df = pd.DataFrame(data=number_data, columns =  col_name_data)\n",
    "    #return df"
   ]
  },
  {
   "cell_type": "code",
   "execution_count": 29,
   "metadata": {},
   "outputs": [
    {
     "name": "stdout",
     "output_type": "stream",
     "text": [
      "['삼성전자' '58,000' '200' ... '7.56' '4.91' '3,174.7']\n",
      "['LG유플러스' '10,850' '150' ... '4.14' '1.80' '138.8']\n",
      "['한국가스공사' '23,900' '200' ... '0.04' '0.08' '243.5']\n",
      "['KCC' '142,500' '0' ... '3.40' '0.45' '2,869.1']\n",
      "['제이알글로벌리츠' '4,900' '10' ... '4.11' '1.26' '234.6']\n",
      "['동국제강' '6,220' '140' ... '7.67' '0.46' '260.2']\n",
      "['스카이라이프' '9,120' '50' ... '-0.03' '1.56' '1,289.7']\n",
      "['KINDEX 단기통안채' '100,805' '0' ... 'N/A' '0.24' 'N/A']\n",
      "['세아홀딩스' '69,600' '100' ... '0.21' '0.51' '3,409.0']\n",
      "['선진' '9,450' '0' ... '2.77' '0.24' '20,998.0']\n",
      "['삼성출판사' '18,350' '150' ... '1.69' '0.32' '4,562.3']\n",
      "['ARIRANG 고배당주' '8,780' '90' ... 'N/A' 'N/A' 'N/A']\n",
      "['BYC' '216,500' '2,500' ... 'N/A' 'N/A' 'N/A']\n",
      "['한국ANKOR유전' '1,645' '15' ... 'N/A' '2.85' '256.0']\n",
      "['강남제비스코' '15,150' '100' ... '1.46' '0.92' '1,220.2']\n",
      "['KODEX KRX300' '14,235' '120' ... 'N/A' 'N/A' 'N/A']\n",
      "['대현' '1,710' '5' ... 'N/A' 'N/A' 'N/A']\n",
      "['한익스프레스' '5,200' '0' ... 'N/A' 'N/A' 'N/A']\n",
      "['미래산업' '3,070' '45' ... 'N/A' 'N/A' 'N/A']\n",
      "['KBSTAR 200선물레버리지' '12,805' '150' ... 'N/A' 'N/A' 'N/A']\n",
      "['WISCOM' '2,165' '45' ... 'N/A' 'N/A' 'N/A']\n",
      "['에이리츠' '7,190' '330' ... 'N/A' 'N/A' 'N/A']\n",
      "['하이트진로2우B' '20,350' '300' ... 'N/A' 'N/A' 'N/A']\n",
      "['KODEX KTOP30' '16,790' '175' ... '-20.95' '13.79' '-74.4']\n",
      "['TIGER 단기선진하이일드(합성 H)' '11,460' '30' ... 'N/A' '7.14' 'N/A']\n",
      "['KINDEX 스마트모멘텀' '13,120' '15' ... 'N/A' 'N/A' 'N/A']\n",
      "['TIGER 코스닥150바이오테크' '12,975' '155' ... 'N/A' 'N/A' 'N/A']\n",
      "['신한 인버스 2X 천연가스 선물 ETN' '8,815' '30' ... 'N/A' 'N/A' 'N/A']\n",
      "['진흥기업우B' '8,700' '950' ... 'N/A' 'N/A' 'N/A']\n",
      "['KODEX MSCI모멘텀' '10,525' '0' ... 'N/A' 'N/A' 'N/A']\n",
      "['HANARO 글로벌럭셔리S&P(합성)' '12,375' '65' ... 'N/A' 'N/A' 'N/A']\n",
      "['TIGER 금속선물(H)' '4,825' '30' '-0.62%' '0' '192' '0' '2,439' '4,825'\n",
      " '4,825' '4,795' '4,800' '4,825' '10,108' '10,117' '600' '29' 'N/A' 'N/A'\n",
      " 'N/A' 'N/A' 'N/A' 'N/A' 'N/A' 'N/A' 'N/A' '0.00' 'N/A' 'N/A' 'N/A' 'N/A'\n",
      " 'N/A' 'KODEX 성장투자' '9,635' '0' '0.00%' '0' '0' '0' '1,013' '0' '0' '0'\n",
      " '0' '0' '0' '0' '300' '29' 'N/A' 'N/A' 'N/A' 'N/A' 'N/A' 'N/A' 'N/A'\n",
      " 'N/A' 'N/A' '0.00' 'N/A' 'N/A' 'N/A' 'N/A' 'N/A' 'TIGER 200 산업재' '4,080'\n",
      " '35' '+0.87%' '0' '44' '0' '969' '4,055' '4,115' '4,055' '4,080' '4,095'\n",
      " '15,362' '20,949' '680' '28' 'N/A' 'N/A' 'N/A' 'N/A' 'N/A' 'N/A' 'N/A'\n",
      " 'N/A' 'N/A' '0.00' 'N/A' 'N/A' 'N/A' 'N/A' 'N/A'\n",
      " 'KBSTAR 미국장기국채선물인버스2X(합성 H)' '5,475' '5' '-0.09%' '0' '9' '0' '260'\n",
      " '5,425' '5,475' '5,425' '5,435' '5,475' '10,155' '10,551' '500' '27'\n",
      " 'N/A' 'N/A' 'N/A' 'N/A' 'N/A' 'N/A' 'N/A' 'N/A' 'N/A' '0.00' 'N/A' 'N/A'\n",
      " 'N/A' 'N/A' 'N/A' 'KBSTAR 우량업종' '8,945' '5' '-0.06%' '0' '9' '0' '31'\n",
      " '8,970' '9,000' '8,945' '8,950' '9,000' '20,101' '13,184' '300' '27'\n",
      " 'N/A' 'N/A' 'N/A' 'N/A' 'N/A' 'N/A' 'N/A' 'N/A' 'N/A' '0.00' 'N/A' 'N/A'\n",
      " 'N/A' 'N/A' 'N/A' 'KBSTAR 200에너지화학' '8,825' '20' '+0.23%' '0' '117' '1'\n",
      " '1,884' '8,955' '8,955' '8,745' '8,845' '8,880' '20,019' '20,204' '300'\n",
      " '26' 'N/A' 'N/A' 'N/A' 'N/A' 'N/A' 'N/A' 'N/A' 'N/A' 'N/A' '0.00' 'N/A'\n",
      " 'N/A' 'N/A' 'N/A' 'N/A' '동양3우B' '28,700' '300' '+1.06%' '500' '241' '6'\n",
      " '2,176' '28,400' '29,300' '28,400' '28,550' '28,700' '54' '276' '90' '26'\n",
      " 'N/A' 'N/A' 'N/A' 'N/A' 'N/A' '6' 'N/A' 'N/A' 'N/A' '0.56' '4,783.33'\n",
      " 'N/A' 'N/A' '7.02' 'N/A' 'KODEX 가치투자' '8,550' '0' '0.00%' '0' '0' '0'\n",
      " '576' '0' '0' '0' '0' '0' '0' '0' '300' '26' 'N/A' 'N/A' 'N/A' 'N/A'\n",
      " 'N/A' 'N/A' 'N/A' 'N/A' 'N/A' '0.00' 'N/A' 'N/A' 'N/A' 'N/A' 'N/A'\n",
      " 'KBSTAR 200산업재' '7,355' '15' '+0.20%' '0' '19' '0' '1,201' '7,390'\n",
      " '7,415' '7,355' '7,375' '7,395' '11,092' '20,208' '340' '25' 'N/A' 'N/A'\n",
      " 'N/A' 'N/A' 'N/A' 'N/A' 'N/A' 'N/A' 'N/A' '0.00' 'N/A' 'N/A' 'N/A' 'N/A'\n",
      " 'N/A' 'TIGER 원유선물인버스(H)' '11,530' '260' '-2.21%' '0' '894' '10' '1,418'\n",
      " '11,615' '11,620' '11,530' '11,535' '11,555' '10,227' '6,085' '200' '23'\n",
      " 'N/A' 'N/A' 'N/A' 'N/A' 'N/A' 'N/A' 'N/A' 'N/A' 'N/A' '0.00' 'N/A' 'N/A'\n",
      " 'N/A' 'N/A' 'N/A' 'TIGER 200 철강소재' '5,405' '15' '+0.28%' '0' '147' '0'\n",
      " '2,218' '5,435' '5,440' '5,405' '5,405' '5,420' '24,224' '24,733' '420'\n",
      " '23' 'N/A' 'N/A' 'N/A' 'N/A' 'N/A' 'N/A' 'N/A' 'N/A' 'N/A' '0.00' 'N/A'\n",
      " 'N/A' 'N/A' 'N/A' 'N/A' 'KBSTAR 팔라듐선물인버스(H)' '5,665' '40' '-0.70%' '0'\n",
      " '1,368' '7' '8,807' '5,655' '5,665' '5,590' '5,635' '5,665' '9,256'\n",
      " '24,951' '400' '23' 'N/A' 'N/A' 'N/A' 'N/A' 'N/A' 'N/A' 'N/A' 'N/A' 'N/A'\n",
      " '0.00' 'N/A' 'N/A' 'N/A' 'N/A' 'N/A' 'KBSTAR 200중공업' '6,985' '30'\n",
      " '+0.43%' '0' '20' '0' '8' '6,955' '7,035' '6,955' '6,995' '7,025'\n",
      " '20,094' '20,978' '300' '21' 'N/A' 'N/A' 'N/A' 'N/A' 'N/A' 'N/A' 'N/A'\n",
      " 'N/A' 'N/A' '0.00' 'N/A' 'N/A' 'N/A' 'N/A' 'N/A' 'KBSTAR 200철강소재' '5,180'\n",
      " '15' '+0.29%' '0' '286' '1' '197' '5,175' '5,215' '5,170' '5,175' '5,195'\n",
      " '20,281' '20,301' '380' '20' 'N/A' 'N/A' 'N/A' 'N/A' 'N/A' 'N/A' 'N/A'\n",
      " 'N/A' 'N/A' '0.00' 'N/A' 'N/A' 'N/A' 'N/A' 'N/A' 'KBSTAR 200금융' '6,420'\n",
      " '30' '+0.47%' '0' '19' '0' '551' '6,385' '6,445' '6,385' '6,425' '6,445'\n",
      " '20,406' '25,054' '300' '19' 'N/A' 'N/A' 'N/A' 'N/A' 'N/A' 'N/A' 'N/A'\n",
      " 'N/A' 'N/A' '0.00' 'N/A' 'N/A' 'N/A' 'N/A' 'N/A' 'KBSTAR 200경기소비재'\n",
      " '8,370' '55' '-0.65%' '0' '34' '0' '110' '8,545' '8,545' '8,320' '8,380'\n",
      " '8,415' '13,103' '13,210' '200' '17' 'N/A' 'N/A' 'N/A' 'N/A' 'N/A' 'N/A'\n",
      " 'N/A' 'N/A' 'N/A' '0.00' 'N/A' 'N/A' 'N/A' 'N/A' 'N/A'\n",
      " 'TIGER KRX300선물인버스' '8,115' '0' '0.00%' '0' '0' '0' '507' '0' '0' '0' '0'\n",
      " '0' '0' '0' '200' '16' 'N/A' 'N/A' 'N/A' 'N/A' 'N/A' 'N/A' 'N/A' 'N/A'\n",
      " 'N/A' '0.00' 'N/A' 'N/A' 'N/A' 'N/A' 'N/A' 'KBSTAR 200건설' '7,285' '5'\n",
      " '-0.07%' '0' '56' '0' '336' '7,315' '7,340' '7,240' '7,295' '7,320'\n",
      " '20,084' '20,186' '220' '16' 'N/A' 'N/A' 'N/A' 'N/A' 'N/A' 'N/A' 'N/A'\n",
      " 'N/A' 'N/A' '0.00' 'N/A' 'N/A' 'N/A' 'N/A' 'N/A' 'TIGER 지속배당' '11,615'\n",
      " '0' '0.00%' '0' '0' '0' '18' '0' '0' '0' '0' '0' '0' '0' '60' '7' 'N/A'\n",
      " 'N/A' 'N/A' 'N/A' 'N/A' 'N/A' 'N/A' 'N/A' 'N/A' '0.00' 'N/A' 'N/A' 'N/A'\n",
      " 'N/A' 'N/A']\n"
     ]
    },
    {
     "ename": "ValueError",
     "evalue": "All objects passed were None",
     "output_type": "error",
     "traceback": [
      "\u001b[0;31m---------------------------------------------------------------------------\u001b[0m",
      "\u001b[0;31mValueError\u001b[0m                                Traceback (most recent call last)",
      "\u001b[0;32m<ipython-input-29-bce70c632921>\u001b[0m in \u001b[0;36m<module>\u001b[0;34m\u001b[0m\n\u001b[0;32m----> 1\u001b[0;31m \u001b[0mmainPage\u001b[0m\u001b[0;34m(\u001b[0m\u001b[0;36m0\u001b[0m\u001b[0;34m)\u001b[0m\u001b[0;34m\u001b[0m\u001b[0;34m\u001b[0m\u001b[0m\n\u001b[0m",
      "\u001b[0;32m<ipython-input-28-bf941d1676de>\u001b[0m in \u001b[0;36mmainPage\u001b[0;34m(code)\u001b[0m\n\u001b[1;32m     14\u001b[0m     \u001b[0mfields\u001b[0m \u001b[0;34m=\u001b[0m \u001b[0;34m[\u001b[0m\u001b[0mitem\u001b[0m\u001b[0;34m.\u001b[0m\u001b[0mget\u001b[0m\u001b[0;34m(\u001b[0m\u001b[0;34m'value'\u001b[0m\u001b[0;34m)\u001b[0m \u001b[0;32mfor\u001b[0m \u001b[0mitem\u001b[0m \u001b[0;32min\u001b[0m \u001b[0mipt_html\u001b[0m\u001b[0;34m.\u001b[0m\u001b[0mselect\u001b[0m\u001b[0;34m(\u001b[0m\u001b[0;34m'input'\u001b[0m\u001b[0;34m)\u001b[0m\u001b[0;34m]\u001b[0m\u001b[0;34m\u001b[0m\u001b[0;34m\u001b[0m\u001b[0m\n\u001b[1;32m     15\u001b[0m     \u001b[0mresult\u001b[0m \u001b[0;34m=\u001b[0m \u001b[0;34m[\u001b[0m\u001b[0mcrawl\u001b[0m\u001b[0;34m(\u001b[0m\u001b[0mcode\u001b[0m\u001b[0;34m,\u001b[0m \u001b[0mstr\u001b[0m\u001b[0;34m(\u001b[0m\u001b[0mpage\u001b[0m\u001b[0;34m)\u001b[0m\u001b[0;34m)\u001b[0m \u001b[0;32mfor\u001b[0m \u001b[0mpage\u001b[0m \u001b[0;32min\u001b[0m \u001b[0mrange\u001b[0m\u001b[0;34m(\u001b[0m\u001b[0;36m1\u001b[0m\u001b[0;34m,\u001b[0m \u001b[0mtop10_page_num\u001b[0m\u001b[0;34m+\u001b[0m\u001b[0;36m1\u001b[0m\u001b[0;34m)\u001b[0m\u001b[0;34m]\u001b[0m\u001b[0;34m\u001b[0m\u001b[0;34m\u001b[0m\u001b[0m\n\u001b[0;32m---> 16\u001b[0;31m     \u001b[0mdf\u001b[0m \u001b[0;34m=\u001b[0m \u001b[0mpd\u001b[0m\u001b[0;34m.\u001b[0m\u001b[0mconcat\u001b[0m\u001b[0;34m(\u001b[0m\u001b[0mresult\u001b[0m\u001b[0;34m,\u001b[0m \u001b[0maxis\u001b[0m\u001b[0;34m=\u001b[0m\u001b[0;36m0\u001b[0m\u001b[0;34m,\u001b[0m \u001b[0mignore_index\u001b[0m\u001b[0;34m=\u001b[0m\u001b[0;32mTrue\u001b[0m\u001b[0;34m)\u001b[0m\u001b[0;34m\u001b[0m\u001b[0;34m\u001b[0m\u001b[0m\n\u001b[0m\u001b[1;32m     17\u001b[0m \u001b[0;34m\u001b[0m\u001b[0m\n\u001b[1;32m     18\u001b[0m \u001b[0;32mdef\u001b[0m \u001b[0mcrawl\u001b[0m\u001b[0;34m(\u001b[0m\u001b[0mcode\u001b[0m\u001b[0;34m,\u001b[0m \u001b[0mpage\u001b[0m\u001b[0;34m)\u001b[0m\u001b[0;34m:\u001b[0m\u001b[0;34m\u001b[0m\u001b[0;34m\u001b[0m\u001b[0m\n",
      "\u001b[0;32m~/anaconda3/lib/python3.7/site-packages/pandas/core/reshape/concat.py\u001b[0m in \u001b[0;36mconcat\u001b[0;34m(objs, axis, join, ignore_index, keys, levels, names, verify_integrity, sort, copy)\u001b[0m\n\u001b[1;32m    279\u001b[0m         \u001b[0mverify_integrity\u001b[0m\u001b[0;34m=\u001b[0m\u001b[0mverify_integrity\u001b[0m\u001b[0;34m,\u001b[0m\u001b[0;34m\u001b[0m\u001b[0;34m\u001b[0m\u001b[0m\n\u001b[1;32m    280\u001b[0m         \u001b[0mcopy\u001b[0m\u001b[0;34m=\u001b[0m\u001b[0mcopy\u001b[0m\u001b[0;34m,\u001b[0m\u001b[0;34m\u001b[0m\u001b[0;34m\u001b[0m\u001b[0m\n\u001b[0;32m--> 281\u001b[0;31m         \u001b[0msort\u001b[0m\u001b[0;34m=\u001b[0m\u001b[0msort\u001b[0m\u001b[0;34m,\u001b[0m\u001b[0;34m\u001b[0m\u001b[0;34m\u001b[0m\u001b[0m\n\u001b[0m\u001b[1;32m    282\u001b[0m     )\n\u001b[1;32m    283\u001b[0m \u001b[0;34m\u001b[0m\u001b[0m\n",
      "\u001b[0;32m~/anaconda3/lib/python3.7/site-packages/pandas/core/reshape/concat.py\u001b[0m in \u001b[0;36m__init__\u001b[0;34m(self, objs, axis, join, keys, levels, names, ignore_index, verify_integrity, copy, sort)\u001b[0m\n\u001b[1;32m    345\u001b[0m \u001b[0;34m\u001b[0m\u001b[0m\n\u001b[1;32m    346\u001b[0m         \u001b[0;32mif\u001b[0m \u001b[0mlen\u001b[0m\u001b[0;34m(\u001b[0m\u001b[0mobjs\u001b[0m\u001b[0;34m)\u001b[0m \u001b[0;34m==\u001b[0m \u001b[0;36m0\u001b[0m\u001b[0;34m:\u001b[0m\u001b[0;34m\u001b[0m\u001b[0;34m\u001b[0m\u001b[0m\n\u001b[0;32m--> 347\u001b[0;31m             \u001b[0;32mraise\u001b[0m \u001b[0mValueError\u001b[0m\u001b[0;34m(\u001b[0m\u001b[0;34m\"All objects passed were None\"\u001b[0m\u001b[0;34m)\u001b[0m\u001b[0;34m\u001b[0m\u001b[0;34m\u001b[0m\u001b[0m\n\u001b[0m\u001b[1;32m    348\u001b[0m \u001b[0;34m\u001b[0m\u001b[0m\n\u001b[1;32m    349\u001b[0m         \u001b[0;31m# consolidate data & figure out what our result ndim is going to be\u001b[0m\u001b[0;34m\u001b[0m\u001b[0;34m\u001b[0m\u001b[0;34m\u001b[0m\u001b[0m\n",
      "\u001b[0;31mValueError\u001b[0m: All objects passed were None"
     ]
    }
   ],
   "source": [
    "mainPage(0)"
   ]
  },
  {
   "cell_type": "code",
   "execution_count": null,
   "metadata": {},
   "outputs": [],
   "source": []
  }
 ],
 "metadata": {
  "kernelspec": {
   "display_name": "Python 3",
   "language": "python",
   "name": "python3"
  },
  "language_info": {
   "codemirror_mode": {
    "name": "ipython",
    "version": 3
   },
   "file_extension": ".py",
   "mimetype": "text/x-python",
   "name": "python",
   "nbconvert_exporter": "python",
   "pygments_lexer": "ipython3",
   "version": "3.7.6"
  }
 },
 "nbformat": 4,
 "nbformat_minor": 4
}
